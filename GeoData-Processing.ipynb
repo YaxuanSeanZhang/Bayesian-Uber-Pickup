{
 "cells": [
  {
   "cell_type": "code",
   "execution_count": 3,
   "metadata": {},
   "outputs": [],
   "source": [
    "import arcpy\n",
    "import requests\n",
    "import os\n",
    "from zipfile import ZipFile\n",
    "import json\n",
    "import pandas as pd\n",
    "import datetime\n",
    "import matplotlib.pyplot as plt\n",
    "import matplotlib.dates as mdates"
   ]
  },
  {
   "cell_type": "code",
   "execution_count": 4,
   "metadata": {},
   "outputs": [],
   "source": [
    "# Define local directory\n",
    "local_directory = r\"E:\\coursework\\ARCGISI\\FinalProject\\FP\\data\"\n",
    "# Create the local directory if it doesn't exist\n",
    "if not os.path.exists(local_directory):\n",
    "    os.makedirs(local_directory)\n",
    "    \n",
    "arcpy.env.workspace = r\"E:\\coursework\\ARCGISI\\FinalProject\\FP\\data\""
   ]
  },
  {
   "cell_type": "markdown",
   "metadata": {},
   "source": [
    "### Read Pick-up Data"
   ]
  },
  {
   "cell_type": "code",
   "execution_count": 5,
   "metadata": {},
   "outputs": [
    {
     "data": {
      "text/html": [
       "<div>\n",
       "<style scoped>\n",
       "    .dataframe tbody tr th:only-of-type {\n",
       "        vertical-align: middle;\n",
       "    }\n",
       "\n",
       "    .dataframe tbody tr th {\n",
       "        vertical-align: top;\n",
       "    }\n",
       "\n",
       "    .dataframe thead th {\n",
       "        text-align: right;\n",
       "    }\n",
       "</style>\n",
       "<table border=\"1\" class=\"dataframe\">\n",
       "  <thead>\n",
       "    <tr style=\"text-align: right;\">\n",
       "      <th></th>\n",
       "      <th>Lat</th>\n",
       "      <th>Lon</th>\n",
       "      <th>Date</th>\n",
       "      <th>Time</th>\n",
       "      <th>Hour</th>\n",
       "    </tr>\n",
       "  </thead>\n",
       "  <tbody>\n",
       "    <tr>\n",
       "      <th>0</th>\n",
       "      <td>40.7521</td>\n",
       "      <td>-73.9914</td>\n",
       "      <td>5/1/2014</td>\n",
       "      <td>0:02:00</td>\n",
       "      <td>0</td>\n",
       "    </tr>\n",
       "    <tr>\n",
       "      <th>1</th>\n",
       "      <td>40.6965</td>\n",
       "      <td>-73.9715</td>\n",
       "      <td>5/1/2014</td>\n",
       "      <td>0:06:00</td>\n",
       "      <td>0</td>\n",
       "    </tr>\n",
       "    <tr>\n",
       "      <th>2</th>\n",
       "      <td>40.7464</td>\n",
       "      <td>-73.9838</td>\n",
       "      <td>5/1/2014</td>\n",
       "      <td>0:15:00</td>\n",
       "      <td>0</td>\n",
       "    </tr>\n",
       "    <tr>\n",
       "      <th>3</th>\n",
       "      <td>40.7463</td>\n",
       "      <td>-74.0011</td>\n",
       "      <td>5/1/2014</td>\n",
       "      <td>0:17:00</td>\n",
       "      <td>0</td>\n",
       "    </tr>\n",
       "    <tr>\n",
       "      <th>4</th>\n",
       "      <td>40.7594</td>\n",
       "      <td>-73.9734</td>\n",
       "      <td>5/1/2014</td>\n",
       "      <td>0:17:00</td>\n",
       "      <td>0</td>\n",
       "    </tr>\n",
       "    <tr>\n",
       "      <th>...</th>\n",
       "      <td>...</td>\n",
       "      <td>...</td>\n",
       "      <td>...</td>\n",
       "      <td>...</td>\n",
       "      <td>...</td>\n",
       "    </tr>\n",
       "    <tr>\n",
       "      <th>652430</th>\n",
       "      <td>40.7309</td>\n",
       "      <td>-74.0014</td>\n",
       "      <td>5/31/2014</td>\n",
       "      <td>23:45:00</td>\n",
       "      <td>23</td>\n",
       "    </tr>\n",
       "    <tr>\n",
       "      <th>652431</th>\n",
       "      <td>40.7528</td>\n",
       "      <td>-73.9798</td>\n",
       "      <td>5/31/2014</td>\n",
       "      <td>23:52:00</td>\n",
       "      <td>23</td>\n",
       "    </tr>\n",
       "    <tr>\n",
       "      <th>652432</th>\n",
       "      <td>40.7158</td>\n",
       "      <td>-73.9519</td>\n",
       "      <td>5/31/2014</td>\n",
       "      <td>23:55:00</td>\n",
       "      <td>23</td>\n",
       "    </tr>\n",
       "    <tr>\n",
       "      <th>652433</th>\n",
       "      <td>40.6961</td>\n",
       "      <td>-73.8997</td>\n",
       "      <td>5/31/2014</td>\n",
       "      <td>23:56:00</td>\n",
       "      <td>23</td>\n",
       "    </tr>\n",
       "    <tr>\n",
       "      <th>652434</th>\n",
       "      <td>40.7393</td>\n",
       "      <td>-73.9919</td>\n",
       "      <td>5/31/2014</td>\n",
       "      <td>23:59:00</td>\n",
       "      <td>23</td>\n",
       "    </tr>\n",
       "  </tbody>\n",
       "</table>\n",
       "<p>652431 rows × 5 columns</p>\n",
       "</div>"
      ],
      "text/plain": [
       "            Lat      Lon       Date      Time  Hour\n",
       "0       40.7521 -73.9914   5/1/2014   0:02:00     0\n",
       "1       40.6965 -73.9715   5/1/2014   0:06:00     0\n",
       "2       40.7464 -73.9838   5/1/2014   0:15:00     0\n",
       "3       40.7463 -74.0011   5/1/2014   0:17:00     0\n",
       "4       40.7594 -73.9734   5/1/2014   0:17:00     0\n",
       "...         ...      ...        ...       ...   ...\n",
       "652430  40.7309 -74.0014  5/31/2014  23:45:00    23\n",
       "652431  40.7528 -73.9798  5/31/2014  23:52:00    23\n",
       "652432  40.7158 -73.9519  5/31/2014  23:55:00    23\n",
       "652433  40.6961 -73.8997  5/31/2014  23:56:00    23\n",
       "652434  40.7393 -73.9919  5/31/2014  23:59:00    23\n",
       "\n",
       "[652431 rows x 5 columns]"
      ]
     },
     "execution_count": 5,
     "metadata": {},
     "output_type": "execute_result"
    }
   ],
   "source": [
    "pickup_df = pd.read_csv(os.path.join(local_directory,'uber-raw-data-apr14.csv'))\n",
    "pickup_df[['Date', 'Time']] = pickup_df['Date/Time'].str.split(' ', expand=True)\n",
    "\n",
    "\n",
    "# Extract the 'Hour' from the 'Time' column\n",
    "pickup_df['Hour'] = pd.to_datetime(pickup_df['Time']).dt.hour\n",
    "\n",
    "# Round the timestamp to the nearest 15-minute interval\n",
    "#pickup_df['Time15MIN'] = pd.to_datetime(pickup_df['Date/Time']).round('15min')\n",
    "\n",
    "# Drop the original 'Date/Time' column\n",
    "pickup_df.drop(columns=['Date/Time','Base'], inplace=True)\n",
    "\n",
    "#remove outlier\n",
    "pickup_df = pickup_df[pickup_df['Lon']<-72.70]\n",
    "\n",
    "pickup_df"
   ]
  },
  {
   "cell_type": "code",
   "execution_count": 8,
   "metadata": {},
   "outputs": [],
   "source": [
    "sr = arcpy.SpatialReference(4326) # WGS 1984\n",
    "\n",
    "# create a new feature class\n",
    "arcpy.CreateFeatureclass_management(arcpy.env.workspace, \"PickUp_Apr\", \"POINT\",spatial_reference=sr)\n",
    "\n",
    "# add fields to the feature class\n",
    "arcpy.AddField_management(\"PickUp_Apr.shp\", \"Lat\", \"Double\")\n",
    "arcpy.AddField_management(\"PickUp_Apr.shp\", \"Lon\", 'Double')\n",
    "arcpy.AddField_management(\"PickUp_Apr.shp\", \"Date\", 'DATE')\n",
    "arcpy.AddField_management(\"PickUp_Apr.shp\", \"Time\", 'TEXT')\n",
    "arcpy.AddField_management(\"PickUp_Apr.shp\", \"Hour\", 'Short')\n",
    "#arcpy.AddField_management(\"PickUp_Apr.shp\", \"Interval\", 'TEXT')\n",
    "\n",
    "# insert data into the feature class\n",
    "cursor = arcpy.da.InsertCursor(\"PickUp_Apr.shp\", [\"SHAPE@\", \"Lat\",'Lon','Date','Time','Hour'])\n",
    "for index,row in pickup_df.iterrows():\n",
    "    point = arcpy.Point(row[1], row[0])\n",
    "    cursor.insertRow([point, row[0], row[1],row[2], row[3],row[4]])\n",
    "del cursor"
   ]
  },
  {
   "cell_type": "markdown",
   "metadata": {},
   "source": [
    "### Read Boundary Data"
   ]
  },
  {
   "cell_type": "code",
   "execution_count": 39,
   "metadata": {},
   "outputs": [
    {
     "data": {
      "text/html": [
       "<div class='gpresult'><h2>Messages</h2><div id='messages' data-messages='[\"Start Time: Monday, November 27, 2023 11:12:06 PM\",\"Succeeded at Monday, November 27, 2023 11:12:39 PM (Elapsed Time: 32.30 seconds)\"]' data-show='true'><div id = 'default' /></div></div>"
      ],
      "text/plain": [
       "<Result 'E:\\\\coursework\\\\ARCGISI\\\\FinalProject\\\\FP\\\\data\\\\subcounty.shp'>"
      ]
     },
     "execution_count": 39,
     "metadata": {},
     "output_type": "execute_result"
    }
   ],
   "source": [
    "# reproject county data\n",
    "arcpy.management.Project(\"US_county_2014.shp\", r\"county.shp\", sr)\n",
    "\n",
    "# reproject sub-county data78U\n",
    "arcpy.management.Project(\"US_cty_sub_2014.shp\", r\"subcounty.shp\", sr)"
   ]
  },
  {
   "cell_type": "code",
   "execution_count": 76,
   "metadata": {},
   "outputs": [
    {
     "data": {
      "text/html": [
       "<div class='gpresult'><h2>Messages</h2><div id='messages' data-messages='[\"Start Time: Monday, November 27, 2023 11:48:47 PM\",\"Succeeded at Monday, November 27, 2023 11:48:47 PM (Elapsed Time: 0.41 seconds)\"]' data-show='true'><div id = 'default' /></div></div>"
      ],
      "text/plain": [
       "<Result 'E:\\\\coursework\\\\ARCGISI\\\\FinalProject\\\\FP\\\\data\\\\selected_subcounty.shp'>"
      ]
     },
     "execution_count": 76,
     "metadata": {},
     "output_type": "execute_result"
    }
   ],
   "source": [
    "# Define the bounding box coordinates\n",
    "xmin, ymin, xmax, ymax = (pickup_df['Lon'].min(), pickup_df['Lat'].min(), pickup_df['Lon'].max(), pickup_df['Lat'].max())\n",
    "\n",
    "# Create a bounding box polygon\n",
    "bounding_box = arcpy.Polygon(\n",
    "    arcpy.Array([arcpy.Point(xmin, ymin),\n",
    "                 arcpy.Point(xmax, ymin),\n",
    "                 arcpy.Point(xmax, ymax),\n",
    "                 arcpy.Point(xmin, ymax)]),sr)\n",
    "\n",
    "arcpy.SelectLayerByLocation_management(\"county\", \"INTERSECT\", bounding_box)\n",
    "arcpy.CopyFeatures_management(\"county\", \"selected_county.shp\")\n",
    "\n",
    "arcpy.SelectLayerByLocation_management(\"subcounty\", \"INTERSECT\", bounding_box)\n",
    "arcpy.CopyFeatures_management(\"subcounty\", \"selected_subcounty.shp\")"
   ]
  },
  {
   "cell_type": "markdown",
   "metadata": {},
   "source": [
    "### Read ACS Data"
   ]
  },
  {
   "cell_type": "code",
   "execution_count": 25,
   "metadata": {},
   "outputs": [
    {
     "data": {
      "text/html": [
       "<div>\n",
       "<style scoped>\n",
       "    .dataframe tbody tr th:only-of-type {\n",
       "        vertical-align: middle;\n",
       "    }\n",
       "\n",
       "    .dataframe tbody tr th {\n",
       "        vertical-align: top;\n",
       "    }\n",
       "\n",
       "    .dataframe thead th {\n",
       "        text-align: right;\n",
       "    }\n",
       "</style>\n",
       "<table border=\"1\" class=\"dataframe\">\n",
       "  <thead>\n",
       "    <tr style=\"text-align: right;\">\n",
       "      <th></th>\n",
       "      <th>GISJOIN</th>\n",
       "      <th>STATE</th>\n",
       "      <th>POP</th>\n",
       "      <th>WPLACE</th>\n",
       "      <th>WPOP</th>\n",
       "      <th>HOUSE</th>\n",
       "    </tr>\n",
       "  </thead>\n",
       "  <tbody>\n",
       "    <tr>\n",
       "      <th>0</th>\n",
       "      <td>G0100010</td>\n",
       "      <td>Alabama</td>\n",
       "      <td>55200</td>\n",
       "      <td>24428.0</td>\n",
       "      <td>43368.0</td>\n",
       "      <td>23315</td>\n",
       "    </tr>\n",
       "    <tr>\n",
       "      <th>1</th>\n",
       "      <td>G0100030</td>\n",
       "      <td>Alabama</td>\n",
       "      <td>208107</td>\n",
       "      <td>91420.0</td>\n",
       "      <td>167712.0</td>\n",
       "      <td>111945</td>\n",
       "    </tr>\n",
       "    <tr>\n",
       "      <th>2</th>\n",
       "      <td>G0100050</td>\n",
       "      <td>Alabama</td>\n",
       "      <td>25782</td>\n",
       "      <td>0.0</td>\n",
       "      <td>20948.0</td>\n",
       "      <td>11937</td>\n",
       "    </tr>\n",
       "    <tr>\n",
       "      <th>3</th>\n",
       "      <td>G0100070</td>\n",
       "      <td>Alabama</td>\n",
       "      <td>22527</td>\n",
       "      <td>7946.0</td>\n",
       "      <td>18470.0</td>\n",
       "      <td>9161</td>\n",
       "    </tr>\n",
       "    <tr>\n",
       "      <th>4</th>\n",
       "      <td>G0100090</td>\n",
       "      <td>Alabama</td>\n",
       "      <td>57645</td>\n",
       "      <td>21148.0</td>\n",
       "      <td>45915.0</td>\n",
       "      <td>24222</td>\n",
       "    </tr>\n",
       "    <tr>\n",
       "      <th>...</th>\n",
       "      <td>...</td>\n",
       "      <td>...</td>\n",
       "      <td>...</td>\n",
       "      <td>...</td>\n",
       "      <td>...</td>\n",
       "      <td>...</td>\n",
       "    </tr>\n",
       "    <tr>\n",
       "      <th>3215</th>\n",
       "      <td>G7201450</td>\n",
       "      <td>Puerto Rico</td>\n",
       "      <td>53371</td>\n",
       "      <td>14194.0</td>\n",
       "      <td>43815.0</td>\n",
       "      <td>24596</td>\n",
       "    </tr>\n",
       "    <tr>\n",
       "      <th>3216</th>\n",
       "      <td>G7201470</td>\n",
       "      <td>Puerto Rico</td>\n",
       "      <td>8771</td>\n",
       "      <td>0.0</td>\n",
       "      <td>7042.0</td>\n",
       "      <td>4934</td>\n",
       "    </tr>\n",
       "    <tr>\n",
       "      <th>3217</th>\n",
       "      <td>G7201490</td>\n",
       "      <td>Puerto Rico</td>\n",
       "      <td>22993</td>\n",
       "      <td>6357.0</td>\n",
       "      <td>18663.0</td>\n",
       "      <td>9089</td>\n",
       "    </tr>\n",
       "    <tr>\n",
       "      <th>3218</th>\n",
       "      <td>G7201510</td>\n",
       "      <td>Puerto Rico</td>\n",
       "      <td>34149</td>\n",
       "      <td>7513.0</td>\n",
       "      <td>28146.0</td>\n",
       "      <td>14736</td>\n",
       "    </tr>\n",
       "    <tr>\n",
       "      <th>3219</th>\n",
       "      <td>G7201530</td>\n",
       "      <td>Puerto Rico</td>\n",
       "      <td>36439</td>\n",
       "      <td>8706.0</td>\n",
       "      <td>30226.0</td>\n",
       "      <td>17427</td>\n",
       "    </tr>\n",
       "  </tbody>\n",
       "</table>\n",
       "<p>3220 rows × 6 columns</p>\n",
       "</div>"
      ],
      "text/plain": [
       "       GISJOIN        STATE     POP   WPLACE      WPOP   HOUSE\n",
       "0     G0100010      Alabama   55200  24428.0   43368.0   23315\n",
       "1     G0100030      Alabama  208107  91420.0  167712.0  111945\n",
       "2     G0100050      Alabama   25782      0.0   20948.0   11937\n",
       "3     G0100070      Alabama   22527   7946.0   18470.0    9161\n",
       "4     G0100090      Alabama   57645  21148.0   45915.0   24222\n",
       "...        ...          ...     ...      ...       ...     ...\n",
       "3215  G7201450  Puerto Rico   53371  14194.0   43815.0   24596\n",
       "3216  G7201470  Puerto Rico    8771      0.0    7042.0    4934\n",
       "3217  G7201490  Puerto Rico   22993   6357.0   18663.0    9089\n",
       "3218  G7201510  Puerto Rico   34149   7513.0   28146.0   14736\n",
       "3219  G7201530  Puerto Rico   36439   8706.0   30226.0   17427\n",
       "\n",
       "[3220 rows x 6 columns]"
      ]
     },
     "execution_count": 25,
     "metadata": {},
     "output_type": "execute_result"
    }
   ],
   "source": [
    "ACS_county = pd.read_csv(os.path.join(local_directory,'nhgis0036_ds239_20185_county.csv'),encoding='latin-1')\n",
    "ACS_county = ACS_county[['GISJOIN','STATE','AJWME001','AJW6E001','AJ1CE001','AJ1SE001']]\n",
    "ACS_county = ACS_county.rename(columns={\"AJWME001\": \"POP\", \"AJW6E001\": \"WPLACE\",\"AJ1CE001\": \"WPOP\",\"AJ1SE001\": \"HOUSE\"})\n",
    "ACS_county.to_csv(os.path.join(local_directory,'ACS_county.csv'),index=False)\n",
    "ACS_county"
   ]
  },
  {
   "cell_type": "code",
   "execution_count": 77,
   "metadata": {},
   "outputs": [
    {
     "data": {
      "text/html": [
       "<div>\n",
       "<style scoped>\n",
       "    .dataframe tbody tr th:only-of-type {\n",
       "        vertical-align: middle;\n",
       "    }\n",
       "\n",
       "    .dataframe tbody tr th {\n",
       "        vertical-align: top;\n",
       "    }\n",
       "\n",
       "    .dataframe thead th {\n",
       "        text-align: right;\n",
       "    }\n",
       "</style>\n",
       "<table border=\"1\" class=\"dataframe\">\n",
       "  <thead>\n",
       "    <tr style=\"text-align: right;\">\n",
       "      <th></th>\n",
       "      <th>GISJOIN</th>\n",
       "      <th>STATE</th>\n",
       "      <th>COUNTY</th>\n",
       "      <th>POP</th>\n",
       "      <th>WPLACE</th>\n",
       "      <th>WPOP</th>\n",
       "      <th>HOUSE</th>\n",
       "    </tr>\n",
       "  </thead>\n",
       "  <tbody>\n",
       "    <tr>\n",
       "      <th>0</th>\n",
       "      <td>G010001090171</td>\n",
       "      <td>Alabama</td>\n",
       "      <td>Autauga County</td>\n",
       "      <td>2945</td>\n",
       "      <td>1025.0</td>\n",
       "      <td>2477.0</td>\n",
       "      <td>1749</td>\n",
       "    </tr>\n",
       "    <tr>\n",
       "      <th>1</th>\n",
       "      <td>G010001090315</td>\n",
       "      <td>Alabama</td>\n",
       "      <td>Autauga County</td>\n",
       "      <td>2550</td>\n",
       "      <td>1098.0</td>\n",
       "      <td>2018.0</td>\n",
       "      <td>1338</td>\n",
       "    </tr>\n",
       "    <tr>\n",
       "      <th>2</th>\n",
       "      <td>G010001092106</td>\n",
       "      <td>Alabama</td>\n",
       "      <td>Autauga County</td>\n",
       "      <td>6401</td>\n",
       "      <td>3106.0</td>\n",
       "      <td>5105.0</td>\n",
       "      <td>2472</td>\n",
       "    </tr>\n",
       "    <tr>\n",
       "      <th>3</th>\n",
       "      <td>G010001092628</td>\n",
       "      <td>Alabama</td>\n",
       "      <td>Autauga County</td>\n",
       "      <td>43304</td>\n",
       "      <td>19199.0</td>\n",
       "      <td>33768.0</td>\n",
       "      <td>17756</td>\n",
       "    </tr>\n",
       "    <tr>\n",
       "      <th>4</th>\n",
       "      <td>G010003090207</td>\n",
       "      <td>Alabama</td>\n",
       "      <td>Baldwin County</td>\n",
       "      <td>26204</td>\n",
       "      <td>10318.0</td>\n",
       "      <td>20214.0</td>\n",
       "      <td>9976</td>\n",
       "    </tr>\n",
       "    <tr>\n",
       "      <th>...</th>\n",
       "      <td>...</td>\n",
       "      <td>...</td>\n",
       "      <td>...</td>\n",
       "      <td>...</td>\n",
       "      <td>...</td>\n",
       "      <td>...</td>\n",
       "      <td>...</td>\n",
       "    </tr>\n",
       "    <tr>\n",
       "      <th>36625</th>\n",
       "      <td>G720153080166</td>\n",
       "      <td>Puerto Rico</td>\n",
       "      <td>Yauco Municipio</td>\n",
       "      <td>779</td>\n",
       "      <td>119.0</td>\n",
       "      <td>689.0</td>\n",
       "      <td>421</td>\n",
       "    </tr>\n",
       "    <tr>\n",
       "      <th>36626</th>\n",
       "      <td>G720153081069</td>\n",
       "      <td>Puerto Rico</td>\n",
       "      <td>Yauco Municipio</td>\n",
       "      <td>4380</td>\n",
       "      <td>1305.0</td>\n",
       "      <td>3525.0</td>\n",
       "      <td>1611</td>\n",
       "    </tr>\n",
       "    <tr>\n",
       "      <th>36627</th>\n",
       "      <td>G720153081155</td>\n",
       "      <td>Puerto Rico</td>\n",
       "      <td>Yauco Municipio</td>\n",
       "      <td>11864</td>\n",
       "      <td>3087.0</td>\n",
       "      <td>9538.0</td>\n",
       "      <td>4722</td>\n",
       "    </tr>\n",
       "    <tr>\n",
       "      <th>36628</th>\n",
       "      <td>G720153085541</td>\n",
       "      <td>Puerto Rico</td>\n",
       "      <td>Yauco Municipio</td>\n",
       "      <td>112</td>\n",
       "      <td>9.0</td>\n",
       "      <td>55.0</td>\n",
       "      <td>71</td>\n",
       "    </tr>\n",
       "    <tr>\n",
       "      <th>36629</th>\n",
       "      <td>G720153088078</td>\n",
       "      <td>Puerto Rico</td>\n",
       "      <td>Yauco Municipio</td>\n",
       "      <td>1747</td>\n",
       "      <td>351.0</td>\n",
       "      <td>1483.0</td>\n",
       "      <td>1782</td>\n",
       "    </tr>\n",
       "  </tbody>\n",
       "</table>\n",
       "<p>36630 rows × 7 columns</p>\n",
       "</div>"
      ],
      "text/plain": [
       "             GISJOIN        STATE           COUNTY  ...   WPLACE     WPOP  HOUSE\n",
       "0      G010001090171      Alabama   Autauga County  ...   1025.0   2477.0   1749\n",
       "1      G010001090315      Alabama   Autauga County  ...   1098.0   2018.0   1338\n",
       "2      G010001092106      Alabama   Autauga County  ...   3106.0   5105.0   2472\n",
       "3      G010001092628      Alabama   Autauga County  ...  19199.0  33768.0  17756\n",
       "4      G010003090207      Alabama   Baldwin County  ...  10318.0  20214.0   9976\n",
       "...              ...          ...              ...  ...      ...      ...    ...\n",
       "36625  G720153080166  Puerto Rico  Yauco Municipio  ...    119.0    689.0    421\n",
       "36626  G720153081069  Puerto Rico  Yauco Municipio  ...   1305.0   3525.0   1611\n",
       "36627  G720153081155  Puerto Rico  Yauco Municipio  ...   3087.0   9538.0   4722\n",
       "36628  G720153085541  Puerto Rico  Yauco Municipio  ...      9.0     55.0     71\n",
       "36629  G720153088078  Puerto Rico  Yauco Municipio  ...    351.0   1483.0   1782\n",
       "\n",
       "[36630 rows x 7 columns]"
      ]
     },
     "execution_count": 77,
     "metadata": {},
     "output_type": "execute_result"
    }
   ],
   "source": [
    "ACS_subcounty = pd.read_csv(os.path.join(local_directory,'nhgis0037_ds239_20185_cty_sub.csv'),encoding='latin-1')\n",
    "ACS_subcounty = ACS_subcounty[['GISJOIN','STATE','COUNTY','AJWME001','AJW6E001','AJ1CE001','AJ1SE001']]\n",
    "ACS_subcounty = ACS_subcounty.rename(columns={\"AJWME001\": \"POP\", \"AJW6E001\": \"WPLACE\",\"AJ1CE001\": \"WPOP\",\"AJ1SE001\": \"HOUSE\"})\n",
    "ACS_subcounty.to_csv(os.path.join(local_directory,'ACS_subcounty.csv'),index=False)\n",
    "ACS_subcounty"
   ]
  },
  {
   "cell_type": "markdown",
   "metadata": {},
   "source": [
    "### QAQC"
   ]
  },
  {
   "cell_type": "code",
   "execution_count": 4,
   "metadata": {},
   "outputs": [
    {
     "data": {
      "text/html": [
       "<div class='gpresult'><h2>Messages</h2><div id='messages' data-messages='[\"Start Time: Tuesday, November 28, 2023 10:15:07 AM\",\"Succeeded at Tuesday, November 28, 2023 10:15:07 AM (Elapsed Time: 0.20 seconds)\"]' data-show='true'><div id = 'default' /></div></div>"
      ],
      "text/plain": [
       "<Result 'E:\\\\coursework\\\\ARCGISI\\\\FinalProject\\\\FP\\\\data\\\\selected_county.shp'>"
      ]
     },
     "execution_count": 4,
     "metadata": {},
     "output_type": "execute_result"
    }
   ],
   "source": [
    "arcpy.management.DeleteField('selected_county.shp','NAMELSAD;GISJOIN','KEEP_FIELDS')"
   ]
  },
  {
   "cell_type": "code",
   "execution_count": 9,
   "metadata": {
    "scrolled": false
   },
   "outputs": [
    {
     "data": {
      "text/html": [
       "<div class='gpresult'><h2>Messages</h2><div id='messages' data-messages='[\"Start Time: Monday, December 18, 2023 11:30:06 AM\",\"Succeeded at Monday, December 18, 2023 11:31:41 AM (Elapsed Time: 1 minutes 35 seconds)\"]' data-show='true'><div id = 'default' /></div></div>"
      ],
      "text/plain": [
       "<Result 'E:\\\\coursework\\\\ARCGISI\\\\FinalProject\\\\FP\\\\data\\\\val\\\\PickUp_May_county.shp'>"
      ]
     },
     "execution_count": 9,
     "metadata": {},
     "output_type": "execute_result"
    }
   ],
   "source": [
    "arcpy.SpatialJoin_analysis('PickUp_Apr', 'selected_county', 'PickUp_Apr_county')"
   ]
  },
  {
   "cell_type": "code",
   "execution_count": 10,
   "metadata": {},
   "outputs": [
    {
     "data": {
      "text/html": [
       "<div class='gpresult'><h2>Messages</h2><div id='messages' data-messages='[\"Start Time: Monday, December 18, 2023 11:31:51 AM\",\"Succeeded at Monday, December 18, 2023 11:31:51 AM (Elapsed Time: 0.11 seconds)\"]' data-show='true'><div id = 'default' /></div></div>"
      ],
      "text/plain": [
       "<Result 'E:\\\\coursework\\\\ARCGISI\\\\FinalProject\\\\FP\\\\data\\\\val\\\\PickUp_May_county_selection.shp'>"
      ]
     },
     "execution_count": 10,
     "metadata": {},
     "output_type": "execute_result"
    }
   ],
   "source": [
    "# Define a SQL query to select features (adjust as needed)\n",
    "query = \"GISJOIN = ''\"\n",
    "\n",
    "# Select features based on the query\n",
    "arcpy.SelectLayerByAttribute_management(\"PickUp_Apr_county\", \"NEW_SELECTION\", query)\n",
    "\n",
    "# Copy the selected features to a new shapefile\n",
    "arcpy.CopyFeatures_management(\"PickUp_Apr_county\", \"PickUp_Apr_county_selection\")\n",
    "arcpy.management.DeleteField('PickUp_Apr_county_selection.shp','Join_Count;TARGET_FID;NAMELSAD;GISJOIN','DELETE_FIELDS')"
   ]
  },
  {
   "cell_type": "code",
   "execution_count": 11,
   "metadata": {},
   "outputs": [
    {
     "data": {
      "text/html": [
       "<div class='gpresult'><h2>Messages</h2><div id='messages' data-messages='[\"Start Time: Monday, December 18, 2023 11:31:56 AM\",\"Succeeded at Monday, December 18, 2023 11:33:15 AM (Elapsed Time: 1 minutes 19 seconds)\"]' data-show='true'><div id = 'default' /></div></div>"
      ],
      "text/plain": [
       "<Result 'E:\\\\coursework\\\\ARCGISI\\\\FinalProject\\\\FP\\\\data\\\\val\\\\PickUp_May_county_revselection.shp'>"
      ]
     },
     "execution_count": 11,
     "metadata": {},
     "output_type": "execute_result"
    }
   ],
   "source": [
    "query = \"GISJOIN = ''\"\n",
    "\n",
    "# Select features based on the query\n",
    "arcpy.SelectLayerByAttribute_management(\"PickUp_Apr_county\", \"NEW_SELECTION\", query)\n",
    "arcpy.SelectLayerByAttribute_management(\"PickUp_Apr_county\", \"SWITCH_SELECTION\")\n",
    "\n",
    "arcpy.CopyFeatures_management(\"PickUp_Apr_county\", \"PickUp_Apr_county_revselection\")"
   ]
  },
  {
   "cell_type": "code",
   "execution_count": 12,
   "metadata": {},
   "outputs": [
    {
     "data": {
      "text/html": [
       "<div class='gpresult'><h2>Messages</h2><div id='messages' data-messages='[\"Start Time: Monday, December 18, 2023 11:33:18 AM\",\"Succeeded at Monday, December 18, 2023 11:33:21 AM (Elapsed Time: 2.56 seconds)\"]' data-show='true'><div id = 'default' /></div></div>"
      ],
      "text/plain": [
       "<Result 'E:\\\\coursework\\\\ARCGISI\\\\FinalProject\\\\FP\\\\data\\\\val\\\\PickUp_May_county_sub.shp'>"
      ]
     },
     "execution_count": 12,
     "metadata": {},
     "output_type": "execute_result"
    }
   ],
   "source": [
    "# Spatial join new \n",
    "arcpy.SpatialJoin_analysis('PickUp_Apr_county_selection', 'selected_county', 'PickUp_Apr_county_sub',match_option='CLOSEST')"
   ]
  },
  {
   "cell_type": "code",
   "execution_count": 13,
   "metadata": {},
   "outputs": [
    {
     "data": {
      "text/html": [
       "<div class='gpresult'><h2>Messages</h2><div id='messages' data-messages='[\"Start Time: Monday, December 18, 2023 11:33:23 AM\",\"Succeeded at Monday, December 18, 2023 11:34:55 AM (Elapsed Time: 1 minutes 31 seconds)\"]' data-show='true'><div id = 'default' /></div></div>"
      ],
      "text/plain": [
       "<Result 'E:\\\\coursework\\\\ARCGISI\\\\FinalProject\\\\FP\\\\data\\\\val\\\\PickUp_May_county_qaqc.shp'>"
      ]
     },
     "execution_count": 13,
     "metadata": {},
     "output_type": "execute_result"
    }
   ],
   "source": [
    "# Merge back\n",
    "arcpy.Merge_management(['PickUp_Apr_county_revselection', 'PickUp_Apr_county_sub'], 'PickUp_Apr_county_qaqc')"
   ]
  },
  {
   "cell_type": "code",
   "execution_count": 14,
   "metadata": {},
   "outputs": [
    {
     "data": {
      "text/html": [
       "<div class='gpresult'><h2>Messages</h2><div id='messages' data-messages='[\"Start Time: Monday, December 18, 2023 11:35:20 AM\",\"Succeeded at Monday, December 18, 2023 11:35:22 AM (Elapsed Time: 1.49 seconds)\"]' data-show='true'><div id = 'default' /></div></div>"
      ],
      "text/plain": [
       "<Result 'E:\\\\coursework\\\\ARCGISI\\\\FinalProject\\\\FP\\\\data\\\\val\\\\PickUp_May_county_Count.csv'>"
      ]
     },
     "execution_count": 14,
     "metadata": {},
     "output_type": "execute_result"
    }
   ],
   "source": [
    "# count summary\n",
    "arcpy.Statistics_analysis('PickUp_Apr_county_qaqc.shp', 'PickUp_Apr_county_Count.dbf', [[\"TARGET_FID\", \"COUNT\"]], [\"GISJOIN\",\"Hour\"])\n",
    "arcpy.management.DeleteField('PickUp_Apr_county_Count.dbf','COUNT_TARG','DELETE_FIELDS')\n",
    "arcpy.TableToTable_conversion('PickUp_Apr_county_Count.dbf', arcpy.env.workspace, \"PickUp_Apr_county_Count.csv\")"
   ]
  },
  {
   "cell_type": "code",
   "execution_count": 15,
   "metadata": {},
   "outputs": [
    {
     "data": {
      "text/html": [
       "<div class='gpresult'><h2>Messages</h2><div id='messages' data-messages='[\"Start Time: Monday, December 18, 2023 11:35:29 AM\",\"Succeeded at Monday, December 18, 2023 11:35:30 AM (Elapsed Time: 0.85 seconds)\"]' data-show='true'><div id = 'default' /></div></div>"
      ],
      "text/plain": [
       "<Result 'true'>"
      ]
     },
     "execution_count": 15,
     "metadata": {},
     "output_type": "execute_result"
    }
   ],
   "source": [
    "#delete unnecessary shapefiles\n",
    "arcpy.Delete_management('PickUp_Apr_county.shp')\n",
    "arcpy.Delete_management('PickUp_Apr_county_revselection.shp')\n",
    "arcpy.Delete_management('PickUp_Apr_county_selection.shp')\n",
    "arcpy.Delete_management('PickUp_Apr_county_sub.shp')"
   ]
  },
  {
   "cell_type": "markdown",
   "metadata": {},
   "source": [
    "### EDA & Visualization "
   ]
  },
  {
   "cell_type": "code",
   "execution_count": 16,
   "metadata": {},
   "outputs": [],
   "source": [
    "#Time line plot\n",
    "pickup_count = pd.read_csv(os.path.join(local_directory,'PickUp_Apr_county_Count.csv'))\n",
    "\n",
    "# Round the timestamp to the nearest 15-minute interval\n",
    "#pickup_count['Time15MIN'] = pd.to_datetime(pickup_count['Interval']).dt.time\n",
    "\n",
    "time_summary = pickup_count.groupby('Hour',as_index=False).agg({\"FREQUENCY\":\"mean\"})"
   ]
  },
  {
   "cell_type": "code",
   "execution_count": 17,
   "metadata": {},
   "outputs": [],
   "source": [
    "x = (pd.DataFrame(columns=['NULL'],\n",
    "                  index=pd.date_range('2023-11-27T00:00:00Z', '2023-11-27T23:59:59Z',\n",
    "                                      freq='60T'))\n",
    "       .between_time('00:00','23:00')\n",
    "       .index.strftime('%Y-%m-%dT%H:%M:%SZ')\n",
    "       .tolist()\n",
    ")\n",
    "\n",
    "x = pd.to_datetime(x) \n",
    "\n",
    "y = time_summary[\"FREQUENCY\"].to_list()\n",
    "\n",
    "\n",
    "myFmt = mdates.DateFormatter('%H:%M')\n",
    "\n",
    "# plot\n",
    "fig, ax = plt.subplots()\n",
    "ax.plot(x, y)\n",
    "\n",
    "ax.xaxis.set_major_formatter(myFmt)\n",
    "fig.autofmt_xdate()\n",
    "\n",
    "plt.show()"
   ]
  },
  {
   "cell_type": "code",
   "execution_count": 14,
   "metadata": {},
   "outputs": [
    {
     "data": {
      "text/html": [
       "<div class='gpresult'><h2>Messages</h2><div id='messages' data-messages='[\"Start Time: Tuesday, November 28, 2023 10:22:57 AM\",\"Succeeded at Tuesday, November 28, 2023 10:22:57 AM (Elapsed Time: 0.18 seconds)\"]' data-show='true'><div id = 'default' /></div></div>"
      ],
      "text/plain": [
       "<Result 'selected_county_Layer1'>"
      ]
     },
     "execution_count": 14,
     "metadata": {},
     "output_type": "execute_result"
    }
   ],
   "source": [
    "#Spatial map\n",
    "space_summary = pickup_count.groupby('GISJOIN',as_index=False).agg({\"FREQUENCY\":\"mean\"})\n",
    "space_summary.to_csv(os.path.join(local_directory,'space_summary.csv'),index=False)\n",
    "arcpy.management.AddJoin('selected_county.shp', 'GISJOIN', 'space_summary.csv', 'GISJOIN')\n"
   ]
  },
  {
   "cell_type": "code",
   "execution_count": 15,
   "metadata": {},
   "outputs": [
    {
     "data": {
      "text/html": [
       "<div class='gpresult'><h2>Messages</h2><div id='messages' data-messages='[\"Start Time: Tuesday, November 28, 2023 10:23:10 AM\",\"Succeeded at Tuesday, November 28, 2023 10:23:11 AM (Elapsed Time: 0.28 seconds)\"]' data-show='true'><div id = 'default' /></div></div>"
      ],
      "text/plain": [
       "<Result 'E:\\\\coursework\\\\ARCGISI\\\\FinalProject\\\\FP\\\\data\\\\PickUp_Apr_county_space.shp'>"
      ]
     },
     "execution_count": 15,
     "metadata": {},
     "output_type": "execute_result"
    }
   ],
   "source": [
    "arcpy.CopyFeatures_management(\"selected_county_Layer1\", \"PickUp_Apr_county_space\")"
   ]
  },
  {
   "cell_type": "code",
   "execution_count": 27,
   "metadata": {},
   "outputs": [],
   "source": [
    "#spatial-temporal maps\n",
    "space_time_summary = pickup_count.groupby(['Hour','GISJOIN'],as_index=False).agg({\"FREQUENCY\":\"mean\"})\n",
    "space_time_summary_3 = space_time_summary[space_time_summary['Hour']==3]\n",
    "space_time_summary_8 = space_time_summary[space_time_summary['Hour']==7]\n",
    "space_time_summary_12 = space_time_summary[space_time_summary['Hour']==12]\n",
    "space_time_summary_18 = space_time_summary[space_time_summary['Hour']==17]\n",
    "\n",
    "space_time_summary_3.to_csv(os.path.join(local_directory,'space_time_summary_3.csv'),index=False)\n",
    "space_time_summary_8.to_csv(os.path.join(local_directory,'space_time_summary_7.csv'),index=False)\n",
    "space_time_summary_12.to_csv(os.path.join(local_directory,'space_time_summary_12.csv'),index=False)\n",
    "space_time_summary_18.to_csv(os.path.join(local_directory,'space_time_summary_17.csv'),index=False)\n"
   ]
  },
  {
   "cell_type": "code",
   "execution_count": 17,
   "metadata": {},
   "outputs": [
    {
     "data": {
      "text/html": [
       "<div class='gpresult'><h2>Messages</h2><div id='messages' data-messages='[\"Start Time: Tuesday, November 28, 2023 10:23:29 AM\",\"Succeeded at Tuesday, November 28, 2023 10:23:29 AM (Elapsed Time: 0.02 seconds)\"]' data-show='true'><div id = 'default' /></div></div>"
      ],
      "text/plain": [
       "<Result 'selected_county_Layer3'>"
      ]
     },
     "execution_count": 17,
     "metadata": {},
     "output_type": "execute_result"
    }
   ],
   "source": [
    "arcpy.management.AddJoin('selected_county.shp', 'GISJOIN', 'space_time_summary_3.csv', 'GISJOIN')\n",
    "arcpy.CopyFeatures_management(\"selected_county_Layer5\", \"PickUp_Apr_county_spacetime_3\")"
   ]
  },
  {
   "cell_type": "code",
   "execution_count": 28,
   "metadata": {},
   "outputs": [
    {
     "data": {
      "text/html": [
       "<div class='gpresult'><h2>Messages</h2><div id='messages' data-messages='[\"Start Time: Tuesday, November 28, 2023 10:53:31 AM\",\"Succeeded at Tuesday, November 28, 2023 10:53:31 AM (Elapsed Time: 0.07 seconds)\"]' data-show='true'><div id = 'default' /></div></div>"
      ],
      "text/plain": [
       "<Result 'selected_county_Layer11'>"
      ]
     },
     "execution_count": 28,
     "metadata": {},
     "output_type": "execute_result"
    }
   ],
   "source": [
    "arcpy.management.AddJoin('selected_county.shp', 'GISJOIN', 'space_time_summary_7.csv', 'GISJOIN')\n",
    "arcpy.CopyFeatures_management(\"selected_county_Layer11\", \"PickUp_Apr_county_spacetime_7\")"
   ]
  },
  {
   "cell_type": "code",
   "execution_count": 21,
   "metadata": {},
   "outputs": [
    {
     "data": {
      "text/html": [
       "<div class='gpresult'><h2>Messages</h2><div id='messages' data-messages='[\"Start Time: Tuesday, November 28, 2023 10:24:14 AM\",\"Succeeded at Tuesday, November 28, 2023 10:24:14 AM (Elapsed Time: 0.02 seconds)\"]' data-show='true'><div id = 'default' /></div></div>"
      ],
      "text/plain": [
       "<Result 'selected_county_Layer7'>"
      ]
     },
     "execution_count": 21,
     "metadata": {},
     "output_type": "execute_result"
    }
   ],
   "source": [
    "arcpy.management.AddJoin('selected_county.shp', 'GISJOIN', 'space_time_summary_12.csv', 'GISJOIN')\n",
    "arcpy.CopyFeatures_management(\"selected_county_Layer7\", \"PickUp_Apr_county_spacetime_12\")"
   ]
  },
  {
   "cell_type": "code",
   "execution_count": 30,
   "metadata": {},
   "outputs": [
    {
     "data": {
      "text/html": [
       "<div class='gpresult'><h2>Messages</h2><div id='messages' data-messages='[\"Start Time: Tuesday, November 28, 2023 10:54:24 AM\",\"Succeeded at Tuesday, November 28, 2023 10:54:24 AM (Elapsed Time: 0.04 seconds)\"]' data-show='true'><div id = 'default' /></div></div>"
      ],
      "text/plain": [
       "<Result 'selected_county_Layer13'>"
      ]
     },
     "execution_count": 30,
     "metadata": {},
     "output_type": "execute_result"
    }
   ],
   "source": [
    "arcpy.management.AddJoin('selected_county.shp', 'GISJOIN', 'space_time_summary_17.csv', 'GISJOIN')\n",
    "arcpy.CopyFeatures_management(\"selected_county_Layer13\", \"PickUp_Apr_county_spacetime_18\")"
   ]
  },
  {
   "cell_type": "code",
   "execution_count": 3,
   "metadata": {},
   "outputs": [
    {
     "data": {
      "text/html": [
       "<div class='gpresult'><h2>Messages</h2><div id='messages' data-messages='[\"Start Time: Monday, December 4, 2023 11:24:30 AM\",\"Succeeded at Monday, December 4, 2023 11:24:32 AM (Elapsed Time: 1.41 seconds)\"]' data-show='true'><div id = 'default' /></div></div>"
      ],
      "text/plain": [
       "<Result 'E:\\\\coursework\\\\ARCGISI\\\\FinalProject\\\\FP\\\\data\\\\Neighbor_county.csv'>"
      ]
     },
     "execution_count": 3,
     "metadata": {},
     "output_type": "execute_result"
    }
   ],
   "source": [
    "arcpy.TableToTable_conversion('Neighbor_county.dbf', arcpy.env.workspace, \"Neighbor_county.csv\")"
   ]
  },
  {
   "cell_type": "code",
   "execution_count": null,
   "metadata": {},
   "outputs": [],
   "source": []
  }
 ],
 "metadata": {
  "kernelspec": {
   "display_name": "ArcGISPro",
   "language": "Python",
   "name": "python3"
  },
  "language_info": {
   "file_extension": ".py",
   "name": "python",
   "version": "3"
  }
 },
 "nbformat": 4,
 "nbformat_minor": 2
}
